{
 "cells": [
  {
   "cell_type": "markdown",
   "id": "b96ea5f2",
   "metadata": {},
   "source": [
    "### (2024 dataset) Fetch CSV from URL & Connect AWS database"
   ]
  },
  {
   "cell_type": "markdown",
   "id": "eaaaf013",
   "metadata": {},
   "source": [
    "##### STEP 1: Fetch the CSV files from the URL (available monthly, 12 urls needed for yearly data). \n",
    "Note: This URL is for testing and only contains SPP nodes from 2024. In another jupyter notebook, the URL will be engineered to include the latest monethly data for all nodes to streamline the automation process. "
   ]
  },
  {
   "cell_type": "code",
   "execution_count": null,
   "id": "baa2b73c",
   "metadata": {
    "scrolled": true
   },
   "outputs": [],
   "source": [
    "import requests\n",
    "import pandas as pd\n",
    "from io import StringIO\n",
    "\n",
    "#Define the function that output a dataframe object from a given url\n",
    "def getDf_fromURL(url):\n",
    "    response = requests.get(url)\n",
    "\n",
    "    # Check if the request was successful\n",
    "    if response.status_code == 200:\n",
    "        # Parse the CSV content using pandas\n",
    "        csv_data = StringIO(response.text)  # Convert response content to a file-like object\n",
    "        df = pd.read_csv(csv_data)\n",
    "        return df\n",
    "    else:\n",
    "        return print(f\"Failed to fetch the data. Status code: {response.status_code}\")"
   ]
  },
  {
   "cell_type": "code",
   "execution_count": null,
   "id": "4f20493d",
   "metadata": {
    "scrolled": false
   },
   "outputs": [],
   "source": [
    "#url with year and month as variables in f-string, obtain data for all 12 months for that year\n",
    "year='2024'\n",
    "get_LMPdata = pd.DataFrame()\n",
    "for month in ('01','02','03','04','05','06','07','08','09','10','11','12'):\n",
    "    URL=f'https://portal.spp.org/file-browser-api/download/rtbm-lmp-by-location?path=/{year}/{month}/RTBM-LMP-MONTHLY-SL-{year}{month}.csv'\n",
    "    newDF = getDf_fromURL(URL)    \n",
    "    get_LMPdata = pd.concat([get_LMPdata, newDF], ignore_index=True)\n",
    "get_LMPdata"
   ]
  },
  {
   "cell_type": "markdown",
   "id": "eee89f6c",
   "metadata": {},
   "source": [
    "##### STEP 2: Dataframe Manipulation with Python"
   ]
  },
  {
   "cell_type": "markdown",
   "id": "158dfa2d",
   "metadata": {},
   "source": [
    "The dataframe is transfromed into the intended form, with 5 columns: </p>\n",
    "   \n",
    "    1. Datetime (date-time data type)\n",
    "    2. Settlement Location Name (string type)\n",
    "    3. LMP (float type)\n",
    "    4. MLC (float type)\n",
    "    5. MCC (float type)"
   ]
  },
  {
   "cell_type": "code",
   "execution_count": null,
   "id": "11fafe39",
   "metadata": {},
   "outputs": [],
   "source": [
    "#Define the function that restructure the dataframe \n",
    "def conversion(raw_data):\n",
    "    # formate dataframe \n",
    "    raw_data.columns = raw_data.columns.str.strip()\n",
    "\n",
    "    melted = raw_data.melt(\n",
    "        id_vars=['Date', 'Settlement Location Name', 'Price Type'],\n",
    "        value_vars=[f'HE{i:02d}' for i in range(1, 25)],\n",
    "        var_name='hour',\n",
    "        value_name='price'\n",
    "    )\n",
    "\n",
    "    # Convert hour (e.g., HE01) to a time\n",
    "    melted['hour'] = melted['hour'].str.extract('HE(\\d+)').astype(int) - 1\n",
    "    melted['Datetime'] = pd.to_datetime(melted['Date']) + pd.to_timedelta(melted['hour'], unit='h')\n",
    "\n",
    "    # Pivot `price_type` to create `lmp`, `mcc`, `mlc` columns\n",
    "    result = melted.pivot_table(\n",
    "        index=['Datetime', 'Settlement Location Name'],\n",
    "        columns='Price Type',\n",
    "        values='price',\n",
    "        aggfunc='first'\n",
    "    ).reset_index()\n",
    "\n",
    "    return result  "
   ]
  },
  {
   "cell_type": "code",
   "execution_count": null,
   "id": "3cc9e579",
   "metadata": {},
   "outputs": [],
   "source": [
    "#Test with the sample LMP data\n",
    "fin_LMP = conversion(get_LMPdata)"
   ]
  },
  {
   "cell_type": "code",
   "execution_count": null,
   "id": "3eff9d51",
   "metadata": {},
   "outputs": [],
   "source": [
    "#correct datetime column dtype\n",
    "fin_LMP['Datetime'] = pd.to_datetime(fin_LMP['Datetime'])\n",
    "#filter to year 2024\n",
    "#fin_LMP = fin_LMP[fin_LMP['Datetime'].dt.year==2024]\n",
    "#ignore this step - all monthly data is ranging from 6:00 in the first month the 1st to 5:00 on the next month the 1st"
   ]
  },
  {
   "cell_type": "code",
   "execution_count": null,
   "id": "2e30b66a",
   "metadata": {},
   "outputs": [],
   "source": [
    "# add month, day, and hour columns for merging later\n",
    "fin_LMP['month']=fin_LMP['Datetime'].dt.month\n",
    "fin_LMP['day']=fin_LMP['Datetime'].dt.day\n",
    "fin_LMP['time']=fin_LMP['Datetime'].dt.hour"
   ]
  },
  {
   "cell_type": "code",
   "execution_count": null,
   "id": "d4361a35",
   "metadata": {
    "scrolled": true
   },
   "outputs": [],
   "source": [
    "fin_LMP"
   ]
  },
  {
   "cell_type": "code",
   "execution_count": null,
   "id": "164d1dc5",
   "metadata": {},
   "outputs": [],
   "source": [
    "#upload dataframe to database\n",
    "fin_LMP.to_sql('raw_lmp', engine, if_exists='replace', index=False)\n",
    "print('raw_lmp stored in the database')"
   ]
  },
  {
   "cell_type": "markdown",
   "id": "71ea1892",
   "metadata": {},
   "source": [
    "##### STEP 3: Adding Coordinate Columns\n",
    "Inner join coordinates table with LMP dataframe. The final dataframe contains 7 columns: </p>\n",
    "   \n",
    "    1. datetime (date-time data type)\n",
    "    2. Settlement Location Name (string type)\n",
    "    3. LMP (float type)\n",
    "    4. MLC (float type)\n",
    "    5. MCC (float type)\n",
    "    6. latitude (float type)\n",
    "    7. longitude (float type)"
   ]
  },
  {
   "cell_type": "code",
   "execution_count": null,
   "id": "c64112d7",
   "metadata": {
    "scrolled": true
   },
   "outputs": [],
   "source": [
    "#import dataframe of pnodes with coordinate\n",
    "coords = pd.read_csv('spp_nodes_buses_coords_new.csv')"
   ]
  },
  {
   "cell_type": "code",
   "execution_count": null,
   "id": "1b87d3b7",
   "metadata": {},
   "outputs": [],
   "source": [
    "len(pd.unique(coords['SETTLEMENTLOCATION']))"
   ]
  },
  {
   "cell_type": "code",
   "execution_count": null,
   "id": "6aa67825",
   "metadata": {},
   "outputs": [],
   "source": [
    "###### add coor table to database ######\n",
    "\n",
    "#upload dataframe to database\n",
    "coords.to_sql('node_coords', engine, if_exists='replace', index=False)\n",
    "print('node_coords stored in the database')"
   ]
  },
  {
   "cell_type": "code",
   "execution_count": null,
   "id": "8a0e1a3d",
   "metadata": {
    "scrolled": true
   },
   "outputs": [],
   "source": [
    "#inner join the dataframes\n",
    "LMP_df = pd.merge(fin_LMP, coords, \n",
    "                     left_on='Settlement Location Name', \n",
    "                     right_on='SETTLEMENTLOCATION',\n",
    "                     how='inner')\n",
    "LMP_df = LMP_df.filter(['Datetime', 'Settlement Location Name', 'LMP', 'MLC', 'MCC', 'latitude', 'longitude'],axis=1)\n",
    "LMP_df"
   ]
  },
  {
   "cell_type": "markdown",
   "id": "280b6915",
   "metadata": {},
   "source": [
    "##### STEP 4: Adding Solar Output\n",
    "Inner join solar production table with LMP_df. The final dataframe contains 8 columns:\n",
    "\n",
    "    1. datetime (date-time data type)\n",
    "    2. Settlement Location Name (string type)\n",
    "    3. LMP (float type)\n",
    "    4. MLC (float type)\n",
    "    5. MCC (float type)\n",
    "    6. latitude (float type)\n",
    "    7. longitude (float type)\n",
    "    8. output"
   ]
  },
  {
   "cell_type": "code",
   "execution_count": null,
   "id": "d3189cf2",
   "metadata": {
    "scrolled": true
   },
   "outputs": [],
   "source": [
    "#import solar production table\n",
    "solar = pd.read_csv('SPP_pNodes_solar_production.csv')\n",
    "solar"
   ]
  },
  {
   "cell_type": "code",
   "execution_count": null,
   "id": "8dd567a4",
   "metadata": {},
   "outputs": [],
   "source": [
    "# count number of nodes\n",
    "len(pd.unique(solar['node_id']))"
   ]
  },
  {
   "cell_type": "code",
   "execution_count": null,
   "id": "ee9769bf",
   "metadata": {},
   "outputs": [],
   "source": [
    "# add month, day, and hour columns for merging later\n",
    "solar['hour'] = pd.to_datetime(solar['hour'])\n",
    "solar['month']=solar['hour'].dt.month\n",
    "solar['day']=solar['hour'].dt.day\n",
    "solar['time']=solar['hour'].dt.hour"
   ]
  },
  {
   "cell_type": "code",
   "execution_count": null,
   "id": "a24b2a7b",
   "metadata": {
    "scrolled": true
   },
   "outputs": [],
   "source": [
    "solar"
   ]
  },
  {
   "cell_type": "code",
   "execution_count": null,
   "id": "749234f4",
   "metadata": {},
   "outputs": [],
   "source": [
    "###### add solar table to database ######\n",
    "\n",
    "#store the solar production table in database\n",
    "solar.to_sql('solar_output', engine, if_exists='replace', index=False)\n",
    "print('solar_output stored in the database')"
   ]
  },
  {
   "cell_type": "code",
   "execution_count": null,
   "id": "d08e718e",
   "metadata": {
    "scrolled": false
   },
   "outputs": [],
   "source": [
    "#inner join the dataframes\n",
    "final_df = pd.merge(LMP_df, solar, \n",
    "                     left_on=['Settlement Location Name','month','day','time'], \n",
    "                     right_on=['node_id','month','day','time'],\n",
    "                     how='inner')\n",
    "final_df = final_df.filter(['Datetime', 'Settlement Location Name', 'LMP', 'MLC', 'MCC', 'latitude', 'longitude','output'],axis=1)\n",
    "final_df"
   ]
  },
  {
   "cell_type": "markdown",
   "id": "455a5347",
   "metadata": {},
   "source": [
    "##### Upload data to database"
   ]
  },
  {
   "cell_type": "code",
   "execution_count": null,
   "id": "df0393b1",
   "metadata": {
    "scrolled": true
   },
   "outputs": [],
   "source": [
    "#Create the engine with connection string (provided in Supabase) to establish connection with the database\n",
    "\n",
    "from sqlalchemy import create_engine\n",
    "connection_string = 'postgresql://postgres:PW@...'\n",
    "engine = create_engine(connection_string)\n",
    "\n",
    "# Test the connection\n",
    "with engine.connect() as connection:\n",
    "    result = connection.execute(\"SELECT NOW();\")\n",
    "    for row in result:\n",
    "        print(row)"
   ]
  },
  {
   "cell_type": "code",
   "execution_count": null,
   "id": "f13e65a3",
   "metadata": {},
   "outputs": [],
   "source": [
    "#store the final_df in database\n",
    "final_df.to_sql('final_df', engine, if_exists='replace', index=False)\n",
    "print('final_df stored in the database')"
   ]
  },
  {
   "cell_type": "code",
   "execution_count": null,
   "id": "3af65f27",
   "metadata": {},
   "outputs": [],
   "source": [
    "engine.dispose()"
   ]
  },
  {
   "cell_type": "markdown",
   "id": "9a88a8ff",
   "metadata": {},
   "source": [
    "##### (side project) testing daytime and nighttime lmp"
   ]
  },
  {
   "cell_type": "code",
   "execution_count": null,
   "id": "1e4b54a8",
   "metadata": {},
   "outputs": [],
   "source": [
    "daytime = final_df[final_df['output']>0]\n",
    "nighttime = final_df[final_df['output']==0]\n",
    "\n",
    "Ave_dLMP = daytime.groupby('Settlement Location Name')['LMP'].mean()\n",
    "Ave_nLMP = nighttime.groupby('Settlement Location Name')['LMP'].mean()"
   ]
  },
  {
   "cell_type": "code",
   "execution_count": null,
   "id": "5df3475c",
   "metadata": {
    "scrolled": true
   },
   "outputs": [],
   "source": [
    "Differences_df = pd.DataFrame({\n",
    "    'Settlement Location Name': Ave_nLMP.index,\n",
    "    'Ave Daytime LMP': Ave_dLMP.values, \n",
    "    'Ave Nighttime LMP': Ave_nLMP.values,\n",
    "    'LMP Difference (Daytime - Nighttime)': Ave_dLMP.values-Ave_nLMP.values\n",
    "})\n",
    "Differences_df"
   ]
  }
 ],
 "metadata": {
  "kernelspec": {
   "display_name": "Python 3 (ipykernel)",
   "language": "python",
   "name": "python3"
  },
  "language_info": {
   "codemirror_mode": {
    "name": "ipython",
    "version": 3
   },
   "file_extension": ".py",
   "mimetype": "text/x-python",
   "name": "python",
   "nbconvert_exporter": "python",
   "pygments_lexer": "ipython3",
   "version": "3.9.12"
  }
 },
 "nbformat": 4,
 "nbformat_minor": 5
}
